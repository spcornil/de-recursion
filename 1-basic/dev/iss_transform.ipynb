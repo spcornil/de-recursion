{
 "cells": [
  {
   "cell_type": "code",
   "execution_count": 78,
   "id": "ca879a53",
   "metadata": {},
   "outputs": [],
   "source": [
    "import json\n",
    "import pandas as pd\n",
    "import glob\n",
    "import os"
   ]
  },
  {
   "cell_type": "code",
   "execution_count": 79,
   "id": "2e598db4",
   "metadata": {},
   "outputs": [],
   "source": [
    "files = glob.glob(\"/tmp/iss_*.json\")"
   ]
  },
  {
   "cell_type": "code",
   "execution_count": 80,
   "id": "ae44a235",
   "metadata": {},
   "outputs": [],
   "source": [
    "df = []\n",
    "for f in files:\n",
    "    j = pd.read_json(f, lines=True)\n",
    "    df.append(j)\n",
    "df = pd.concat(df)\n",
    "df.reset_index(inplace=True, drop=True)"
   ]
  },
  {
   "cell_type": "code",
   "execution_count": 81,
   "id": "3e11b6eb",
   "metadata": {},
   "outputs": [
    {
     "data": {
      "text/html": [
       "<div>\n",
       "<style scoped>\n",
       "    .dataframe tbody tr th:only-of-type {\n",
       "        vertical-align: middle;\n",
       "    }\n",
       "\n",
       "    .dataframe tbody tr th {\n",
       "        vertical-align: top;\n",
       "    }\n",
       "\n",
       "    .dataframe thead th {\n",
       "        text-align: right;\n",
       "    }\n",
       "</style>\n",
       "<table border=\"1\" class=\"dataframe\">\n",
       "  <thead>\n",
       "    <tr style=\"text-align: right;\">\n",
       "      <th></th>\n",
       "      <th>timestamp</th>\n",
       "      <th>message</th>\n",
       "      <th>iss_position</th>\n",
       "    </tr>\n",
       "  </thead>\n",
       "  <tbody>\n",
       "    <tr>\n",
       "      <th>0</th>\n",
       "      <td>2023-03-12 18:30:14</td>\n",
       "      <td>success</td>\n",
       "      <td>{'longitude': '-133.5447', 'latitude': '-43.17...</td>\n",
       "    </tr>\n",
       "    <tr>\n",
       "      <th>1</th>\n",
       "      <td>2023-03-12 18:29:32</td>\n",
       "      <td>success</td>\n",
       "      <td>{'longitude': '-136.4576', 'latitude': '-41.71...</td>\n",
       "    </tr>\n",
       "    <tr>\n",
       "      <th>2</th>\n",
       "      <td>2023-03-12 18:29:53</td>\n",
       "      <td>success</td>\n",
       "      <td>{'longitude': '-135.0539', 'latitude': '-42.43...</td>\n",
       "    </tr>\n",
       "  </tbody>\n",
       "</table>\n",
       "</div>"
      ],
      "text/plain": [
       "            timestamp  message  \\\n",
       "0 2023-03-12 18:30:14  success   \n",
       "1 2023-03-12 18:29:32  success   \n",
       "2 2023-03-12 18:29:53  success   \n",
       "\n",
       "                                        iss_position  \n",
       "0  {'longitude': '-133.5447', 'latitude': '-43.17...  \n",
       "1  {'longitude': '-136.4576', 'latitude': '-41.71...  \n",
       "2  {'longitude': '-135.0539', 'latitude': '-42.43...  "
      ]
     },
     "execution_count": 81,
     "metadata": {},
     "output_type": "execute_result"
    }
   ],
   "source": [
    "df"
   ]
  },
  {
   "cell_type": "code",
   "execution_count": 82,
   "id": "1dccd46c",
   "metadata": {},
   "outputs": [],
   "source": [
    "df = (pd.DataFrame(df['iss_position'].values.tolist())\n",
    "        .add_prefix('iss_')\n",
    "        .join(df.drop('iss_position', axis=1)))"
   ]
  },
  {
   "cell_type": "code",
   "execution_count": 85,
   "id": "588346b7",
   "metadata": {},
   "outputs": [
    {
     "data": {
      "text/html": [
       "<div>\n",
       "<style scoped>\n",
       "    .dataframe tbody tr th:only-of-type {\n",
       "        vertical-align: middle;\n",
       "    }\n",
       "\n",
       "    .dataframe tbody tr th {\n",
       "        vertical-align: top;\n",
       "    }\n",
       "\n",
       "    .dataframe thead th {\n",
       "        text-align: right;\n",
       "    }\n",
       "</style>\n",
       "<table border=\"1\" class=\"dataframe\">\n",
       "  <thead>\n",
       "    <tr style=\"text-align: right;\">\n",
       "      <th></th>\n",
       "      <th>timestamp</th>\n",
       "      <th>message</th>\n",
       "      <th>iss_longitude</th>\n",
       "      <th>iss_latitude</th>\n",
       "    </tr>\n",
       "  </thead>\n",
       "  <tbody>\n",
       "    <tr>\n",
       "      <th>0</th>\n",
       "      <td>2023-03-12 18:30:14</td>\n",
       "      <td>success</td>\n",
       "      <td>-133.5447</td>\n",
       "      <td>-43.1773</td>\n",
       "    </tr>\n",
       "    <tr>\n",
       "      <th>1</th>\n",
       "      <td>2023-03-12 18:29:32</td>\n",
       "      <td>success</td>\n",
       "      <td>-136.4576</td>\n",
       "      <td>-41.7136</td>\n",
       "    </tr>\n",
       "    <tr>\n",
       "      <th>2</th>\n",
       "      <td>2023-03-12 18:29:53</td>\n",
       "      <td>success</td>\n",
       "      <td>-135.0539</td>\n",
       "      <td>-42.4384</td>\n",
       "    </tr>\n",
       "  </tbody>\n",
       "</table>\n",
       "</div>"
      ],
      "text/plain": [
       "            timestamp  message iss_longitude iss_latitude\n",
       "0 2023-03-12 18:30:14  success     -133.5447     -43.1773\n",
       "1 2023-03-12 18:29:32  success     -136.4576     -41.7136\n",
       "2 2023-03-12 18:29:53  success     -135.0539     -42.4384"
      ]
     },
     "execution_count": 85,
     "metadata": {},
     "output_type": "execute_result"
    }
   ],
   "source": [
    "df = df[['timestamp','message','iss_longitude','iss_latitude']]\n",
    "df"
   ]
  },
  {
   "cell_type": "code",
   "execution_count": 89,
   "id": "f2e4d005",
   "metadata": {},
   "outputs": [],
   "source": [
    "df.to_csv('/tmp/iss_loc.csv', index=False, mode='w')"
   ]
  },
  {
   "cell_type": "code",
   "execution_count": null,
   "id": "9bb80687",
   "metadata": {},
   "outputs": [],
   "source": []
  }
 ],
 "metadata": {
  "kernelspec": {
   "display_name": "Python 3 (ipykernel)",
   "language": "python",
   "name": "python3"
  },
  "language_info": {
   "codemirror_mode": {
    "name": "ipython",
    "version": 3
   },
   "file_extension": ".py",
   "mimetype": "text/x-python",
   "name": "python",
   "nbconvert_exporter": "python",
   "pygments_lexer": "ipython3",
   "version": "3.8.10"
  }
 },
 "nbformat": 4,
 "nbformat_minor": 5
}
